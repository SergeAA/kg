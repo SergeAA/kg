{
 "cells": [
  {
   "cell_type": "markdown",
   "metadata": {},
   "source": [
    "<b style=\"color:red\">**NOTE:**</b> Каждый шаг делал с учетом предидущего т.е. на каждом шаге признаки только добавлялись - возможно я неверно понял и нужно было каждый шаг оценивать отдельно по отношению к базовой модели ..."
   ]
  },
  {
   "cell_type": "markdown",
   "metadata": {},
   "source": [
    "# ДЗ №3\n",
    "\n",
    "Если будете решать ДЗ на отдельном датасете (не датасет из соревнования) - то использовать датасет из ДЗ2, IEEE-Fraud-Detection Challenge."
   ]
  },
  {
   "cell_type": "markdown",
   "metadata": {},
   "source": [
    "## Библиотеки и загрузка данных"
   ]
  },
  {
   "cell_type": "code",
   "execution_count": 69,
   "metadata": {
    "ExecuteTime": {
     "end_time": "2020-09-26T08:31:40.207349Z",
     "start_time": "2020-09-26T08:31:40.199445Z"
    }
   },
   "outputs": [],
   "source": [
    "import warnings\n",
    "\n",
    "from datetime import datetime, timedelta\n",
    "\n",
    "from sklearn.preprocessing import StandardScaler\n",
    "from sklearn.decomposition import PCA\n",
    "from sklearn.metrics import roc_auc_score\n",
    "from sklearn.model_selection import train_test_split\n",
    "\n",
    "import numpy as np\n",
    "import pandas as pd\n",
    "import catboost as cb\n",
    "\n",
    "warnings.simplefilter(\"ignore\")\n",
    "%matplotlib inline"
   ]
  },
  {
   "cell_type": "code",
   "execution_count": 56,
   "metadata": {
    "ExecuteTime": {
     "end_time": "2020-09-26T08:23:20.612488Z",
     "start_time": "2020-09-26T08:23:11.875206Z"
    }
   },
   "outputs": [],
   "source": [
    "train = pd.read_csv('../data/assignment_train.csv.zip', compression='zip')\n",
    "test = pd.read_csv('../data/assignment_test.csv.zip', compression='zip')"
   ]
  },
  {
   "cell_type": "code",
   "execution_count": 57,
   "metadata": {
    "ExecuteTime": {
     "end_time": "2020-09-26T08:23:20.660490Z",
     "start_time": "2020-09-26T08:23:20.615428Z"
    },
    "code_folding": []
   },
   "outputs": [],
   "source": [
    "to_drop = [\n",
    "    \"TransactionID\",\n",
    "    \"TransactionDT\",\n",
    "    \"isFraud\",\n",
    "]\n",
    "\n",
    "categorical = train.select_dtypes(include=[\"object\"]).columns.tolist()\n",
    "\n",
    "def fit_catboost(x_train, y_train, x_valid, y_valid, params, verbose=100):\n",
    "    eval_set = [(x_valid, y_valid)]\n",
    "    model = cb.CatBoostClassifier(**params)\n",
    "    model.fit(X=x_train, y=y_train,\n",
    "              eval_set=eval_set,\n",
    "              cat_features=categorical,\n",
    "              verbose=verbose)\n",
    "\n",
    "    return model\n",
    "\n",
    "def evaluate_model(model, *args):\n",
    "    eval_data = [(args[i], args[i+1]) for i in range(0, len(args), 2)]\n",
    "    if eval_data:\n",
    "        for sample, target in eval_data:\n",
    "            y_pred = model.predict_proba(sample)[:, 1]\n",
    "            score = roc_auc_score(target, y_pred)\n",
    "            print(f\"score = {score:0.6f}\")\n",
    "\n",
    "def prepare_data(X, categorical, to_drop):\n",
    "    X_transformed = X.copy()\n",
    "    to_drop = set(X.columns) & set(to_drop)\n",
    "    if to_drop:\n",
    "        X_transformed = X_transformed.drop(to_drop, axis=1)\n",
    "    X_transformed[categorical] = X_transformed[categorical].astype(str)\n",
    "    return X_transformed"
   ]
  },
  {
   "cell_type": "code",
   "execution_count": 5,
   "metadata": {
    "ExecuteTime": {
     "end_time": "2020-09-25T10:14:37.002961Z",
     "start_time": "2020-09-25T10:14:36.632448Z"
    }
   },
   "outputs": [],
   "source": [
    "XT, XV, y_train, y_valid = train_test_split(\n",
    "    train, train[\"isFraud\"], \n",
    "    train_size=0.7, random_state=42, \n",
    "    shuffle=True\n",
    ")"
   ]
  },
  {
   "cell_type": "markdown",
   "metadata": {},
   "source": [
    "## Задание 0: выбрать любую модель машнного обучения и зафиксировать любой тип валидации. \n",
    "\n",
    "Обучить базовую модель и зафиксировать базовое качество модели. В каждом следующем задании нужно будет обучить выбранную модель и оценивать ее качество на зафиксированной схеме валидации. После каждого задания, требуется сделать вывод о достигаемом качестве модели, по сравнению с качестом из предыдущего шага."
   ]
  },
  {
   "cell_type": "code",
   "execution_count": 35,
   "metadata": {
    "ExecuteTime": {
     "end_time": "2020-09-26T08:02:34.154386Z",
     "start_time": "2020-09-26T08:02:34.147457Z"
    },
    "scrolled": false
   },
   "outputs": [],
   "source": [
    "cb_sm = {\n",
    "    \"n_estimators\": 1000,\n",
    "    \"learning_rate\": 0.01,\n",
    "    \"loss_function\": \"Logloss\",\n",
    "    \"eval_metric\": \"AUC\",\n",
    "    \"task_type\": \"CPU\",\n",
    "    \"max_bin\": 20,\n",
    "    \"verbose\": 10,\n",
    "    \"max_depth\": 6,\n",
    "    \"l2_leaf_reg\": 100,\n",
    "    \"early_stopping_rounds\": 30,\n",
    "    \"thread_count\": 6,\n",
    "    \"random_seed\": 42\n",
    "}\n",
    "\n",
    "def test_model(x_train, x_valid, x_test):\n",
    "    print(f'Columns = {x_train.shape[1]}\\n')\n",
    "    model = fit_catboost(x_train, y_train, x_valid, y_valid, cb_sm, 100)\n",
    "    evaluate_model(model, x_train, y_train, x_valid, y_valid, x_test, test[\"isFraud\"])\n",
    "    return model"
   ]
  },
  {
   "cell_type": "code",
   "execution_count": 36,
   "metadata": {
    "ExecuteTime": {
     "end_time": "2020-09-26T08:06:24.460204Z",
     "start_time": "2020-09-26T08:02:34.517453Z"
    }
   },
   "outputs": [
    {
     "name": "stdout",
     "output_type": "stream",
     "text": [
      "Columns = 391\n",
      "\n",
      "0:\ttest: 0.6192122\tbest: 0.6192122 (0)\ttotal: 414ms\tremaining: 6m 53s\n",
      "100:\ttest: 0.8117806\tbest: 0.8117806 (100)\ttotal: 25.2s\tremaining: 3m 44s\n",
      "200:\ttest: 0.8336717\tbest: 0.8336717 (200)\ttotal: 51.3s\tremaining: 3m 23s\n",
      "300:\ttest: 0.8373416\tbest: 0.8374015 (298)\ttotal: 1m 13s\tremaining: 2m 51s\n",
      "400:\ttest: 0.8403872\tbest: 0.8403872 (400)\ttotal: 1m 34s\tremaining: 2m 21s\n",
      "500:\ttest: 0.8440294\tbest: 0.8440294 (500)\ttotal: 1m 59s\tremaining: 1m 59s\n",
      "600:\ttest: 0.8463114\tbest: 0.8463114 (600)\ttotal: 2m 26s\tremaining: 1m 37s\n",
      "700:\ttest: 0.8482284\tbest: 0.8482284 (700)\ttotal: 2m 48s\tremaining: 1m 11s\n",
      "800:\ttest: 0.8502504\tbest: 0.8502504 (800)\ttotal: 3m 7s\tremaining: 46.6s\n",
      "900:\ttest: 0.8515970\tbest: 0.8516079 (896)\ttotal: 3m 26s\tremaining: 22.6s\n",
      "999:\ttest: 0.8527042\tbest: 0.8527224 (993)\ttotal: 3m 44s\tremaining: 0us\n",
      "\n",
      "bestTest = 0.85272243\n",
      "bestIteration = 993\n",
      "\n",
      "Shrink model to first 994 iterations.\n",
      "score = 0.893857\n",
      "score = 0.852722\n",
      "score = 0.861933\n"
     ]
    }
   ],
   "source": [
    "x_train = prepare_data(XT, categorical=categorical, to_drop=to_drop)\n",
    "x_valid = prepare_data(XV, categorical=categorical, to_drop=to_drop)\n",
    "x_test = prepare_data(test, categorical=categorical, to_drop=to_drop)\n",
    "\n",
    "_= test_model(x_train, x_valid, x_test)"
   ]
  },
  {
   "cell_type": "markdown",
   "metadata": {},
   "source": [
    "## Задание 1: признак TransactionDT - это смещение в секундах относительно базовой даты. \n",
    "\n",
    "Базовая дата - 2017-12-01, преобразовать признак TransactionDT в datetime, прибавив к базовой дате исходное значение признака. Из полученного признака выделить год, месяц, день недели, час, день."
   ]
  },
  {
   "cell_type": "code",
   "execution_count": 37,
   "metadata": {
    "ExecuteTime": {
     "end_time": "2020-09-26T08:07:21.139902Z",
     "start_time": "2020-09-26T08:06:24.464089Z"
    }
   },
   "outputs": [
    {
     "name": "stdout",
     "output_type": "stream",
     "text": [
      "Columns = 396\n",
      "\n",
      "0:\ttest: 0.6174489\tbest: 0.6174489 (0)\ttotal: 203ms\tremaining: 3m 22s\n",
      "100:\ttest: 0.8121317\tbest: 0.8122543 (91)\ttotal: 20.8s\tremaining: 3m 5s\n",
      "200:\ttest: 0.8333778\tbest: 0.8335564 (188)\ttotal: 40.4s\tremaining: 2m 40s\n",
      "Stopped by overfitting detector  (30 iterations wait)\n",
      "\n",
      "bestTest = 0.8351618372\n",
      "bestIteration = 235\n",
      "\n",
      "Shrink model to first 236 iterations.\n",
      "score = 0.871177\n",
      "score = 0.835162\n",
      "score = 0.849027\n"
     ]
    }
   ],
   "source": [
    "def step1(X):\n",
    "    base = datetime.fromisoformat('2017-12-01')\n",
    "    res = X[['TransactionDT']].copy()\n",
    "    p = res['TransactionDT'].apply(lambda x: base + timedelta(seconds=x))\n",
    "    res['year'] = p.dt.year\n",
    "    res['month'] = p.dt.month\n",
    "    res['day'] = p.dt.day\n",
    "    res['day_of_week'] = p.dt.weekday\n",
    "    res['hour'] = p.dt.hour\n",
    "    return res.drop('TransactionDT', axis=1)\n",
    "\n",
    "x_train = pd.concat([x_train, step1(XT)], axis=1)\n",
    "x_valid = pd.concat([x_valid, step1(XV)], axis=1)\n",
    "x_test = pd.concat([x_test, step1(test)], axis=1)\n",
    "\n",
    "_= test_model(x_train, x_valid, x_test)"
   ]
  },
  {
   "cell_type": "markdown",
   "metadata": {},
   "source": [
    "> **Вывод:** насколько я понял особого прироста качества эти данные не дали, возможно даже ухудшили"
   ]
  },
  {
   "cell_type": "markdown",
   "metadata": {},
   "source": [
    "## Задание 2: сгруппировать данные по card1 и посчитать среднюю сумму транзакции.\n",
    "\n",
    "Добавить в качестве признака в набор данных. Посчитать разницу между суммой транзакцией пользователя и средней суммой транзакции по данному типу card1. Построить отношение этих признаков. Повторить процедуру для всех card."
   ]
  },
  {
   "cell_type": "code",
   "execution_count": 38,
   "metadata": {
    "ExecuteTime": {
     "end_time": "2020-09-26T08:11:09.315084Z",
     "start_time": "2020-09-26T08:07:21.143035Z"
    }
   },
   "outputs": [
    {
     "name": "stdout",
     "output_type": "stream",
     "text": [
      "Columns = 414\n",
      "\n",
      "0:\ttest: 0.6111935\tbest: 0.6111935 (0)\ttotal: 260ms\tremaining: 4m 20s\n",
      "100:\ttest: 0.8237884\tbest: 0.8237884 (100)\ttotal: 19.9s\tremaining: 2m 56s\n",
      "200:\ttest: 0.8372628\tbest: 0.8377381 (191)\ttotal: 45s\tremaining: 2m 59s\n",
      "300:\ttest: 0.8406375\tbest: 0.8407166 (298)\ttotal: 1m 8s\tremaining: 2m 39s\n",
      "400:\ttest: 0.8438370\tbest: 0.8439751 (399)\ttotal: 1m 31s\tremaining: 2m 16s\n",
      "500:\ttest: 0.8471846\tbest: 0.8471846 (500)\ttotal: 1m 57s\tremaining: 1m 56s\n",
      "600:\ttest: 0.8497551\tbest: 0.8497551 (600)\ttotal: 2m 18s\tremaining: 1m 31s\n",
      "700:\ttest: 0.8523476\tbest: 0.8523476 (700)\ttotal: 2m 41s\tremaining: 1m 8s\n",
      "800:\ttest: 0.8545498\tbest: 0.8545498 (800)\ttotal: 3m 1s\tremaining: 45s\n",
      "900:\ttest: 0.8560212\tbest: 0.8560212 (900)\ttotal: 3m 20s\tremaining: 22s\n",
      "999:\ttest: 0.8574031\tbest: 0.8574031 (999)\ttotal: 3m 42s\tremaining: 0us\n",
      "\n",
      "bestTest = 0.8574031111\n",
      "bestIteration = 999\n",
      "\n",
      "score = 0.897983\n",
      "score = 0.857403\n",
      "score = 0.865802\n"
     ]
    }
   ],
   "source": [
    "def step2(X):\n",
    "    cards = [f'card{i}' for i in range(1,7)]\n",
    "    res = X[['TransactionAmt']+cards].copy()\n",
    "    for i in cards:\n",
    "        m = res.groupby(i)['TransactionAmt'].mean()\n",
    "        res[f'{i}_mean'] = res[i].map(m)\n",
    "        res[f'{i}_diff'] = res['TransactionAmt'] - res[f'{i}_mean']\n",
    "        res[f'{i}_rel'] = res['TransactionAmt'] / res[f'{i}_mean']\n",
    "    return res.drop(['TransactionAmt']+cards, axis=1)\n",
    "\n",
    "x_train = pd.concat([x_train, step2(XT)], axis=1)\n",
    "x_valid = pd.concat([x_valid, step2(XV)], axis=1)\n",
    "x_test = pd.concat([x_test, step2(test)], axis=1)\n",
    "\n",
    "_= test_model(x_train, x_valid, x_test)"
   ]
  },
  {
   "cell_type": "markdown",
   "metadata": {},
   "source": [
    "> **Вывод:** добавление таких признаков улучшило качество модели"
   ]
  },
  {
   "cell_type": "markdown",
   "metadata": {},
   "source": [
    "## Задание 3: преобразовать признаки card_1 - card_6 с помощью Frequency Encoding;"
   ]
  },
  {
   "cell_type": "code",
   "execution_count": 39,
   "metadata": {
    "ExecuteTime": {
     "end_time": "2020-09-26T08:11:35.503644Z",
     "start_time": "2020-09-26T08:11:09.319931Z"
    }
   },
   "outputs": [
    {
     "name": "stdout",
     "output_type": "stream",
     "text": [
      "Columns = 420\n",
      "\n",
      "0:\ttest: 0.6433701\tbest: 0.6433701 (0)\ttotal: 1.38s\tremaining: 23m 2s\n",
      "Stopped by overfitting detector  (30 iterations wait)\n",
      "\n",
      "bestTest = 0.8153935385\n",
      "bestIteration = 47\n",
      "\n",
      "Shrink model to first 48 iterations.\n",
      "score = 0.836277\n",
      "score = 0.815394\n",
      "score = 0.827628\n"
     ]
    }
   ],
   "source": [
    "def step3(X):\n",
    "    cards = [f'card{i}' for i in range(1,7)]\n",
    "    res = X[cards].copy()\n",
    "    for i in cards:\n",
    "        m = res[i].value_counts(normalize=True)\n",
    "        res[f'{i}_freq'] = res[i].map(m)\n",
    "    return res.drop(cards, axis=1)\n",
    "\n",
    "x_train = pd.concat([x_train, step3(XT)], axis=1)\n",
    "x_valid = pd.concat([x_valid, step3(XV)], axis=1)\n",
    "x_test = pd.concat([x_test, step3(test)], axis=1)\n",
    "\n",
    "_= test_model(x_train, x_valid, x_test)"
   ]
  },
  {
   "cell_type": "markdown",
   "metadata": {},
   "source": [
    "> **Вывод:** судя по всему особого прироста качества эти данные не дали, даже возможно ухудшили"
   ]
  },
  {
   "cell_type": "markdown",
   "metadata": {},
   "source": [
    "## Задание 4: преобразовать признак TransactionAmt в логариф признака, выделить дробную часть и целую часть в отдельные признаки."
   ]
  },
  {
   "cell_type": "code",
   "execution_count": 40,
   "metadata": {
    "ExecuteTime": {
     "end_time": "2020-09-26T08:12:54.003554Z",
     "start_time": "2020-09-26T08:11:35.508289Z"
    }
   },
   "outputs": [
    {
     "name": "stdout",
     "output_type": "stream",
     "text": [
      "Columns = 422\n",
      "\n",
      "0:\ttest: 0.6366957\tbest: 0.6366957 (0)\ttotal: 289ms\tremaining: 4m 49s\n",
      "100:\ttest: 0.8189844\tbest: 0.8189844 (100)\ttotal: 23.7s\tremaining: 3m 31s\n",
      "200:\ttest: 0.8381693\tbest: 0.8381693 (200)\ttotal: 49.7s\tremaining: 3m 17s\n",
      "Stopped by overfitting detector  (30 iterations wait)\n",
      "\n",
      "bestTest = 0.8411261294\n",
      "bestIteration = 235\n",
      "\n",
      "Shrink model to first 236 iterations.\n",
      "score = 0.873915\n",
      "score = 0.841126\n",
      "score = 0.849746\n"
     ]
    }
   ],
   "source": [
    "def step4(X):\n",
    "    res = X[['TransactionAmt']].copy()\n",
    "    m = np.log(X['TransactionAmt'])\n",
    "    res['TransactionAmt_ceil'] = m // 1\n",
    "    res['TransactionAmt_floor'] = m - res['TransactionAmt_ceil']\n",
    "    return res.drop('TransactionAmt', axis=1)\n",
    "\n",
    "x_train = pd.concat([x_train, step4(XT)], axis=1)\n",
    "x_valid = pd.concat([x_valid, step4(XV)], axis=1)\n",
    "x_test = pd.concat([x_test, step4(test)], axis=1)\n",
    "\n",
    "_= test_model(x_train, x_valid, x_test)"
   ]
  },
  {
   "cell_type": "markdown",
   "metadata": {},
   "source": [
    "> **Вывод:** если смотреть на предидущий шаг и на этот то модель явно улучшилась"
   ]
  },
  {
   "cell_type": "markdown",
   "metadata": {},
   "source": [
    "## Задание 5: для числовых признаков построить PCA-признаки, добавить их к основной части датасета."
   ]
  },
  {
   "cell_type": "code",
   "execution_count": 41,
   "metadata": {
    "ExecuteTime": {
     "end_time": "2020-09-26T08:12:58.095301Z",
     "start_time": "2020-09-26T08:12:54.015581Z"
    }
   },
   "outputs": [
    {
     "data": {
      "text/plain": [
       "PCA(n_components=2)"
      ]
     },
     "execution_count": 41,
     "metadata": {},
     "output_type": "execute_result"
    }
   ],
   "source": [
    "num = train.select_dtypes(exclude=[\"object\"]).columns.tolist()\n",
    "num = list(filter(lambda x: x not in to_drop, num))\n",
    "\n",
    "sc = StandardScaler()\n",
    "pca = PCA(n_components=2)\n",
    "pca.fit(np.nan_to_num(sc.fit_transform(XT[num])))"
   ]
  },
  {
   "cell_type": "code",
   "execution_count": 42,
   "metadata": {
    "ExecuteTime": {
     "end_time": "2020-09-26T08:17:13.341575Z",
     "start_time": "2020-09-26T08:12:58.098166Z"
    }
   },
   "outputs": [
    {
     "name": "stdout",
     "output_type": "stream",
     "text": [
      "Columns = 424\n",
      "\n",
      "0:\ttest: 0.6582504\tbest: 0.6582504 (0)\ttotal: 196ms\tremaining: 3m 15s\n",
      "100:\ttest: 0.8231812\tbest: 0.8231812 (100)\ttotal: 23.9s\tremaining: 3m 32s\n",
      "200:\ttest: 0.8389087\tbest: 0.8389087 (200)\ttotal: 51s\tremaining: 3m 22s\n",
      "300:\ttest: 0.8427118\tbest: 0.8427275 (295)\ttotal: 1m 14s\tremaining: 2m 54s\n",
      "400:\ttest: 0.8462936\tbest: 0.8462936 (400)\ttotal: 1m 38s\tremaining: 2m 27s\n",
      "500:\ttest: 0.8493955\tbest: 0.8493955 (500)\ttotal: 2m\tremaining: 2m\n",
      "600:\ttest: 0.8522032\tbest: 0.8522032 (600)\ttotal: 2m 24s\tremaining: 1m 35s\n",
      "700:\ttest: 0.8553174\tbest: 0.8553174 (700)\ttotal: 2m 50s\tremaining: 1m 12s\n",
      "800:\ttest: 0.8570191\tbest: 0.8570191 (800)\ttotal: 3m 23s\tremaining: 50.6s\n",
      "900:\ttest: 0.8581883\tbest: 0.8581883 (900)\ttotal: 3m 44s\tremaining: 24.6s\n",
      "999:\ttest: 0.8590597\tbest: 0.8590597 (999)\ttotal: 4m 4s\tremaining: 0us\n",
      "\n",
      "bestTest = 0.8590596903\n",
      "bestIteration = 999\n",
      "\n",
      "score = 0.896581\n",
      "score = 0.859060\n",
      "score = 0.864250\n"
     ]
    }
   ],
   "source": [
    "def step5(X):\n",
    "    res = X[num].copy()\n",
    "    p = pca.transform(np.nan_to_num(sc.transform(res)))\n",
    "    res['pca_1'] = p[:, 0]\n",
    "    res['pca_2'] = p[:, 1]\n",
    "    return res.drop(num, axis=1)\n",
    "\n",
    "x_train = pd.concat([x_train, step5(XT)], axis=1)\n",
    "x_valid = pd.concat([x_valid, step5(XV)], axis=1)\n",
    "x_test = pd.concat([x_test, step5(test)], axis=1)\n",
    "\n",
    "model = test_model(x_train, x_valid, x_test)"
   ]
  },
  {
   "cell_type": "markdown",
   "metadata": {},
   "source": [
    "> **Вывод:** данные признаки явно улучшают модель, думаю обобщающие PCA признаки перекрывают остальные признаки "
   ]
  },
  {
   "cell_type": "markdown",
   "metadata": {},
   "source": [
    "## Задание 6: использовать критерий отбора признаков на основе перестановок для отбора признаков, которые положительно влияют на перформанс модели. \n",
    "Переобучить модель и сделать выводы о полученном качестве алгоритма."
   ]
  },
  {
   "cell_type": "code",
   "execution_count": 46,
   "metadata": {
    "ExecuteTime": {
     "end_time": "2020-09-26T08:17:30.005775Z",
     "start_time": "2020-09-26T08:17:29.999338Z"
    }
   },
   "outputs": [],
   "source": [
    "def calculate_permutation_importance(estimator, x_valid: pd.DataFrame,\n",
    "                                     y_valid: pd.Series) -> pd.Series:\n",
    "    scores = {}\n",
    "    y_pred = model.predict_proba(x_valid)[:, 1]\n",
    "    base_score = roc_auc_score(y_valid, y_pred)    \n",
    "\n",
    "    for feature in x_valid.columns:\n",
    "        x_valid_copy = x_valid.copy()\n",
    "        x_valid_copy[feature] = np.random.permutation(x_valid_copy[feature])\n",
    "\n",
    "        y_pred = model.predict_proba(x_valid_copy)[:, 1]\n",
    "        score = roc_auc_score(y_valid, y_pred)    \n",
    "\n",
    "        scores[feature] = base_score - score\n",
    "\n",
    "    scores = pd.Series(scores)\n",
    "    scores = scores.sort_values(ascending=False)\n",
    "\n",
    "    return scores"
   ]
  },
  {
   "cell_type": "code",
   "execution_count": 47,
   "metadata": {
    "ExecuteTime": {
     "end_time": "2020-09-26T08:19:07.081314Z",
     "start_time": "2020-09-26T08:17:30.745905Z"
    }
   },
   "outputs": [
    {
     "data": {
      "text/plain": [
       "C13           0.008224\n",
       "C1            0.006652\n",
       "V317          0.005251\n",
       "C14           0.005091\n",
       "M5            0.003558\n",
       "                ...   \n",
       "addr2        -0.000569\n",
       "D2           -0.000597\n",
       "C4           -0.000685\n",
       "card3_mean   -0.000844\n",
       "card3        -0.001924\n",
       "Length: 424, dtype: float64"
      ]
     },
     "execution_count": 47,
     "metadata": {},
     "output_type": "execute_result"
    }
   ],
   "source": [
    "perm_importance = calculate_permutation_importance(model, x_valid, y_valid)\n",
    "perm_importance "
   ]
  },
  {
   "cell_type": "code",
   "execution_count": 61,
   "metadata": {
    "ExecuteTime": {
     "end_time": "2020-09-26T08:27:29.068825Z",
     "start_time": "2020-09-26T08:27:29.058947Z"
    }
   },
   "outputs": [
    {
     "name": "stdout",
     "output_type": "stream",
     "text": [
      "Features count =  204\n"
     ]
    }
   ],
   "source": [
    "m = perm_importance[perm_importance > 0.00001].index\n",
    "ncats = [i for i in categorical if i in m]\n",
    "print('Features count = ', len(m))"
   ]
  },
  {
   "cell_type": "code",
   "execution_count": 60,
   "metadata": {
    "ExecuteTime": {
     "end_time": "2020-09-26T08:27:29.053162Z",
     "start_time": "2020-09-26T08:25:19.942672Z"
    }
   },
   "outputs": [
    {
     "name": "stdout",
     "output_type": "stream",
     "text": [
      "0:\ttest: 0.6288250\tbest: 0.6288250 (0)\ttotal: 272ms\tremaining: 4m 31s\n",
      "100:\ttest: 0.8321459\tbest: 0.8321459 (100)\ttotal: 15.6s\tremaining: 2m 18s\n",
      "200:\ttest: 0.8491896\tbest: 0.8491896 (200)\ttotal: 32.6s\tremaining: 2m 9s\n",
      "300:\ttest: 0.8535091\tbest: 0.8535091 (300)\ttotal: 46.4s\tremaining: 1m 47s\n",
      "400:\ttest: 0.8554069\tbest: 0.8554069 (400)\ttotal: 58s\tremaining: 1m 26s\n",
      "500:\ttest: 0.8579656\tbest: 0.8579656 (499)\ttotal: 1m 10s\tremaining: 1m 10s\n",
      "600:\ttest: 0.8602536\tbest: 0.8602536 (600)\ttotal: 1m 21s\tremaining: 53.8s\n",
      "700:\ttest: 0.8626926\tbest: 0.8626926 (700)\ttotal: 1m 32s\tremaining: 39.3s\n",
      "800:\ttest: 0.8637669\tbest: 0.8637669 (800)\ttotal: 1m 44s\tremaining: 25.8s\n",
      "900:\ttest: 0.8647422\tbest: 0.8647422 (900)\ttotal: 1m 56s\tremaining: 12.8s\n",
      "999:\ttest: 0.8654655\tbest: 0.8654655 (999)\ttotal: 2m 8s\tremaining: 0us\n",
      "\n",
      "bestTest = 0.8654655237\n",
      "bestIteration = 999\n",
      "\n"
     ]
    },
    {
     "data": {
      "text/plain": [
       "<catboost.core.CatBoostClassifier at 0x1a664afba8>"
      ]
     },
     "execution_count": 60,
     "metadata": {},
     "output_type": "execute_result"
    }
   ],
   "source": [
    "model2 = cb.CatBoostClassifier(**cb_sm)\n",
    "model2.fit(X=x_train[m], y=y_train,\n",
    "          eval_set=[(x_valid[m], y_valid)],\n",
    "          cat_features=ncats,\n",
    "          verbose=100)"
   ]
  },
  {
   "cell_type": "code",
   "execution_count": 63,
   "metadata": {
    "ExecuteTime": {
     "end_time": "2020-09-26T08:29:02.085584Z",
     "start_time": "2020-09-26T08:29:01.076021Z"
    }
   },
   "outputs": [
    {
     "name": "stdout",
     "output_type": "stream",
     "text": [
      "score = 0.896829\n",
      "score = 0.865466\n",
      "score = 0.866391\n"
     ]
    }
   ],
   "source": [
    "evaluate_model(model2, x_train[m], y_train, x_valid[m], y_valid, x_test[m], test[\"isFraud\"])"
   ]
  },
  {
   "cell_type": "markdown",
   "metadata": {},
   "source": [
    "> **Вывод:** благодаря выбору наиболее значимых признаков мы значительно улучишили качество модели и увеличили скорость обработки потому что кол-во признаков стало в 2 раза меньше"
   ]
  }
 ],
 "metadata": {
  "kernelspec": {
   "display_name": "Python 3",
   "language": "python",
   "name": "python3"
  },
  "language_info": {
   "codemirror_mode": {
    "name": "ipython",
    "version": 3
   },
   "file_extension": ".py",
   "mimetype": "text/x-python",
   "name": "python",
   "nbconvert_exporter": "python",
   "pygments_lexer": "ipython3",
   "version": "3.7.1"
  },
  "toc": {
   "base_numbering": 1,
   "nav_menu": {},
   "number_sections": true,
   "sideBar": true,
   "skip_h1_title": false,
   "title_cell": "Table of Contents",
   "title_sidebar": "Contents",
   "toc_cell": false,
   "toc_position": {},
   "toc_section_display": true,
   "toc_window_display": false
  }
 },
 "nbformat": 4,
 "nbformat_minor": 4
}
